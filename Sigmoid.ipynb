{
 "cells": [
  {
   "cell_type": "code",
   "execution_count": 5,
   "metadata": {},
   "outputs": [
    {
     "name": "stdout",
     "output_type": "stream",
     "text": [
      "Training data shape:  (60000, 28, 28)\n",
      "Training label shape:  (60000,)\n",
      "Test data shape (10000, 28, 28)\n",
      "Test label shape:  (10000,)\n",
      "Reshaped training label:  (60000, 1)\n",
      "Reshaped test label:  (10000, 1)\n",
      "First 5 training labels: \n",
      " [[5]\n",
      " [0]\n",
      " [4]\n",
      " [1]\n",
      " [9]]\n",
      "First 5 training lables as one-hot encoded vectors:\n",
      " [[0. 0. 0. 0. 0. 1. 0. 0. 0. 0.]\n",
      " [1. 0. 0. 0. 0. 0. 0. 0. 0. 0.]\n",
      " [0. 0. 0. 0. 1. 0. 0. 0. 0. 0.]\n",
      " [0. 1. 0. 0. 0. 0. 0. 0. 0. 0.]\n",
      " [0. 0. 0. 0. 0. 0. 0. 0. 0. 1.]]\n"
     ]
    }
   ],
   "source": [
    "import keras\n",
    "import time\n",
    "import matplotlib\n",
    "import matplotlib.pyplot as plt\n",
    "\n",
    "from keras.layers import Dense, Activation\n",
    "from keras.models import Sequential\n",
    "from keras.datasets import mnist\n",
    "\n",
    "\n",
    "\n",
    "# Load datasets and view the shape of the training and test dataset splits\n",
    "(x_train, y_train), (x_test, y_test) = mnist.load_data()\n",
    "print(\"Training data shape: \", x_train.shape) \n",
    "print(\"Training label shape: \", y_train.shape)\n",
    "\n",
    "print(\"Test data shape\", x_test.shape)\n",
    "print(\"Test label shape: \", y_test.shape)\n",
    "\n",
    "# Reshape the test and train labels datasets to avoid rank 1 arrays\n",
    "y_train = y_train.reshape(len(y_train), 1)\n",
    "print(\"Reshaped training label: \", y_train.shape)\n",
    "y_test = y_test.reshape(len(y_test), 1)\n",
    "print(\"Reshaped test label: \", y_test.shape)\n",
    "\n",
    "# Flatten the images\n",
    "flatten_image_size = x_train.shape[1] * x_train.shape[2] #Training and Test images should have the same dimensions\n",
    "x_train = x_train.reshape(x_train.shape[0], flatten_image_size)\n",
    "x_test = x_test.reshape(x_test.shape[0], flatten_image_size)\n",
    "\n",
    "print(\"First 5 training labels: \\n\", y_train[:5])\n",
    "\n",
    "# Convert to \"one-hot\" vectors using the to_categorical function\n",
    "num_classes = 10\n",
    "y_train = keras.utils.to_categorical(y_train, num_classes)\n",
    "y_test = keras.utils.to_categorical(y_test, num_classes)\n",
    "print(\"First 5 training lables as one-hot encoded vectors:\\n\", y_train[:5])"
   ]
  },
  {
   "cell_type": "code",
   "execution_count": 6,
   "metadata": {
    "scrolled": true
   },
   "outputs": [
    {
     "name": "stdout",
     "output_type": "stream",
     "text": [
      "_________________________________________________________________\n",
      "Layer (type)                 Output Shape              Param #   \n",
      "=================================================================\n",
      "dense_4 (Dense)              (None, 32)                25120     \n",
      "_________________________________________________________________\n",
      "activation_4 (Activation)    (None, 32)                0         \n",
      "_________________________________________________________________\n",
      "dense_5 (Dense)              (None, 64)                2112      \n",
      "_________________________________________________________________\n",
      "activation_5 (Activation)    (None, 64)                0         \n",
      "_________________________________________________________________\n",
      "dense_6 (Dense)              (None, 10)                650       \n",
      "_________________________________________________________________\n",
      "activation_6 (Activation)    (None, 10)                0         \n",
      "=================================================================\n",
      "Total params: 27,882\n",
      "Trainable params: 27,882\n",
      "Non-trainable params: 0\n",
      "_________________________________________________________________\n"
     ]
    }
   ],
   "source": [
    "num_classes = 10 # Number of different outputs\n",
    "\n",
    "model = Sequential([\n",
    "    Dense(32, input_shape=(flatten_image_size,)),\n",
    "    Activation('sigmoid'),\n",
    "    Dense(64),\n",
    "    Activation('sigmoid'),\n",
    "    Dense(num_classes),\n",
    "    Activation('softmax'),\n",
    "])\n",
    "\n",
    "model.summary()"
   ]
  },
  {
   "cell_type": "code",
   "execution_count": 7,
   "metadata": {
    "scrolled": true
   },
   "outputs": [
    {
     "name": "stdout",
     "output_type": "stream",
     "text": [
      "Train on 54000 samples, validate on 6000 samples\n",
      "Epoch 1/10\n",
      "54000/54000 [==============================] - 1s 10us/step - loss: 2.2919 - acc: 0.1798 - val_loss: 2.2192 - val_acc: 0.3207\n",
      "Epoch 2/10\n",
      "54000/54000 [==============================] - 0s 7us/step - loss: 2.1881 - acc: 0.3807 - val_loss: 2.1520 - val_acc: 0.4495\n",
      "Epoch 3/10\n",
      "54000/54000 [==============================] - 0s 8us/step - loss: 2.1239 - acc: 0.4804 - val_loss: 2.0870 - val_acc: 0.5332\n",
      "Epoch 4/10\n",
      "54000/54000 [==============================] - 0s 7us/step - loss: 2.0633 - acc: 0.5371 - val_loss: 2.0269 - val_acc: 0.5823\n",
      "Epoch 5/10\n",
      "54000/54000 [==============================] - 0s 7us/step - loss: 2.0038 - acc: 0.5863 - val_loss: 1.9660 - val_acc: 0.6187\n",
      "Epoch 6/10\n",
      "54000/54000 [==============================] - 0s 9us/step - loss: 1.9439 - acc: 0.6143 - val_loss: 1.9044 - val_acc: 0.6513\n",
      "Epoch 7/10\n",
      "54000/54000 [==============================] - 0s 9us/step - loss: 1.8832 - acc: 0.6367 - val_loss: 1.8426 - val_acc: 0.6802\n",
      "Epoch 8/10\n",
      "54000/54000 [==============================] - 0s 7us/step - loss: 1.8225 - acc: 0.6568 - val_loss: 1.7803 - val_acc: 0.6970\n",
      "Epoch 9/10\n",
      "54000/54000 [==============================] - 0s 7us/step - loss: 1.7619 - acc: 0.6729 - val_loss: 1.7175 - val_acc: 0.7100\n",
      "Epoch 10/10\n",
      "54000/54000 [==============================] - 0s 7us/step - loss: 1.7011 - acc: 0.6879 - val_loss: 1.6556 - val_acc: 0.7175\n"
     ]
    },
    {
     "data": {
      "image/png": "[encoded data removed]",
      "text/plain": [
       "<Figure size 432x288 with 1 Axes>"
      ]
     },
     "metadata": {
      "needs_background": "light"
     },
     "output_type": "display_data"
    },
    {
     "name": "stdout",
     "output_type": "stream",
     "text": [
      "Test loss: 1.66\n",
      "Test accuracy: 0.7\n"
     ]
    }
   ],
   "source": [
    "model.compile(optimizer=\"sgd\", loss='categorical_crossentropy', metrics=['accuracy'])\n",
    "history = model.fit(x_train, y_train, batch_size=512, epochs=10, verbose=1, validation_split=.1)\n",
    "loss, accuracy  = model.evaluate(x_test, y_test, verbose=False)\n",
    "\n",
    "plt.plot(history.history['acc'])\n",
    "plt.plot(history.history['val_acc'])\n",
    "plt.title('model accuracy')\n",
    "plt.ylabel('accuracy')\n",
    "plt.xlabel('epoch')\n",
    "plt.legend(['Training', 'Test'], loc='best')\n",
    "plt.show()\n",
    "\n",
    "print(f'Test loss: {loss:.3}')\n",
    "print(f'Test accuracy: {accuracy:.3}')"
   ]
  },
  {
   "cell_type": "markdown",
   "metadata": {},
   "source": []
  },
  {
   "cell_type": "code",
   "execution_count": null,
   "metadata": {},
   "outputs": [],
   "source": []
  }
 ],
 "metadata": {
  "kernelspec": {
   "display_name": "Python 3",
   "language": "python",
   "name": "python3"
  },
  "language_info": {
   "codemirror_mode": {
    "name": "ipython",
    "version": 3
   },
   "file_extension": ".py",
   "mimetype": "text/x-python",
   "name": "python",
   "nbconvert_exporter": "python",
   "pygments_lexer": "ipython3",
   "version": "3.7.3"
  }
 },
 "nbformat": 4,
 "nbformat_minor": 2
}
