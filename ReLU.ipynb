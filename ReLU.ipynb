{
 "cells": [
  {
   "cell_type": "code",
   "execution_count": 1,
   "metadata": {},
   "outputs": [
    {
     "name": "stderr",
     "output_type": "stream",
     "text": [
      "Using TensorFlow backend.\n"
     ]
    },
    {
     "name": "stdout",
     "output_type": "stream",
     "text": [
      "Training data shape:  (60000, 28, 28)\n",
      "Test data shape (10000, 28, 28)\n",
      "Training label shape:  (60000,)\n",
      "First 5 training labels:  [5 0 4 1 9]\n",
      "First 5 training lables as one-hot encoded vectors:\n",
      " [[0. 0. 0. 0. 0. 1. 0. 0. 0. 0.]\n",
      " [1. 0. 0. 0. 0. 0. 0. 0. 0. 0.]\n",
      " [0. 0. 0. 0. 1. 0. 0. 0. 0. 0.]\n",
      " [0. 1. 0. 0. 0. 0. 0. 0. 0. 0.]\n",
      " [0. 0. 0. 0. 0. 0. 0. 0. 0. 1.]]\n"
     ]
    }
   ],
   "source": [
    "import keras\n",
    "import time\n",
    "import matplotlib\n",
    "import matplotlib.pyplot as plt\n",
    "\n",
    "from keras.layers import Dense, Activation\n",
    "from keras.models import Sequential\n",
    "from keras.datasets import mnist\n",
    "\n",
    "\n",
    "\n",
    "# Load datasets and view the shape of the training and test dataset splits\n",
    "(x_train, y_train), (x_test, y_test) = mnist.load_data()\n",
    "print(\"Training data shape: \", x_train.shape) \n",
    "print(\"Training label shape: \", y_train.shape)\n",
    "\n",
    "print(\"Test data shape\", x_test.shape)\n",
    "print(\"Test label shape: \", y_test.shape)\n",
    "\n",
    "# Reshape the test and train labels datasets to avoid rank 1 arrays\n",
    "y_train = y_train.reshape(len(y_train), 1)\n",
    "print(\"Reshaped training label: \", y_train.shape)\n",
    "y_test = y_test.reshape(len(y_test), 1)\n",
    "print(\"Reshaped test label: \", y_test.shape)\n",
    "\n",
    "# Flatten the images\n",
    "flatten_image_size = x_train.shape[1] * x_train.shape[2] #Training and Test images should have the same dimensions\n",
    "x_train = x_train.reshape(x_train.shape[0], flatten_image_size)\n",
    "x_test = x_test.reshape(x_test.shape[0], flatten_image_size)\n",
    "\n",
    "print(\"First 5 training labels: \\n\", y_train[:5])\n",
    "\n",
    "# Convert to \"one-hot\" vectors using the to_categorical function\n",
    "num_classes = 10\n",
    "y_train = keras.utils.to_categorical(y_train, num_classes)\n",
    "y_test = keras.utils.to_categorical(y_test, num_classes)\n",
    "print(\"First 5 training lables as one-hot encoded vectors:\\n\", y_train[:5])"
   ]
  },
  {
   "cell_type": "code",
   "execution_count": 2,
   "metadata": {},
   "outputs": [
    {
     "name": "stdout",
     "output_type": "stream",
     "text": [
      "WARNING:tensorflow:From /home/sooraj/venv/tf2/lib/python3.7/site-packages/tensorflow/python/framework/op_def_library.py:263: colocate_with (from tensorflow.python.framework.ops) is deprecated and will be removed in a future version.\n",
      "Instructions for updating:\n",
      "Colocations handled automatically by placer.\n",
      "_________________________________________________________________\n",
      "Layer (type)                 Output Shape              Param #   \n",
      "=================================================================\n",
      "dense_1 (Dense)              (None, 32)                25120     \n",
      "_________________________________________________________________\n",
      "activation_1 (Activation)    (None, 32)                0         \n",
      "_________________________________________________________________\n",
      "dense_2 (Dense)              (None, 64)                2112      \n",
      "_________________________________________________________________\n",
      "activation_2 (Activation)    (None, 64)                0         \n",
      "_________________________________________________________________\n",
      "dense_3 (Dense)              (None, 10)                650       \n",
      "_________________________________________________________________\n",
      "activation_3 (Activation)    (None, 10)                0         \n",
      "=================================================================\n",
      "Total params: 27,882\n",
      "Trainable params: 27,882\n",
      "Non-trainable params: 0\n",
      "_________________________________________________________________\n"
     ]
    }
   ],
   "source": [
    "num_classes = 10 # Number of different outputs\n",
    "\n",
    "model = Sequential([\n",
    "    Dense(32, input_shape=(flatten_image_size,)),\n",
    "    Activation('relu'),\n",
    "    Dense(64),\n",
    "    Activation('relu'),\n",
    "    Dense(num_classes),\n",
    "    Activation('softmax'),\n",
    "])\n",
    "\n",
    "model.summary()"
   ]
  },
  {
   "cell_type": "code",
   "execution_count": 3,
   "metadata": {
    "scrolled": true
   },
   "outputs": [
    {
     "name": "stdout",
     "output_type": "stream",
     "text": [
      "WARNING:tensorflow:From /home/sooraj/venv/tf2/lib/python3.7/site-packages/tensorflow/python/ops/math_ops.py:3066: to_int32 (from tensorflow.python.ops.math_ops) is deprecated and will be removed in a future version.\n",
      "Instructions for updating:\n",
      "Use tf.cast instead.\n",
      "Train on 54000 samples, validate on 6000 samples\n",
      "Epoch 1/10\n",
      "54000/54000 [==============================] - 0s 9us/step - loss: 10.2309 - acc: 0.3568 - val_loss: 6.1111 - val_acc: 0.6038\n",
      "Epoch 2/10\n",
      "54000/54000 [==============================] - 0s 6us/step - loss: 4.0471 - acc: 0.7285 - val_loss: 3.0273 - val_acc: 0.7983\n",
      "Epoch 3/10\n",
      "54000/54000 [==============================] - 0s 7us/step - loss: 2.8801 - acc: 0.8090 - val_loss: 2.6644 - val_acc: 0.8225\n",
      "Epoch 4/10\n",
      "54000/54000 [==============================] - 0s 6us/step - loss: 2.6603 - acc: 0.8228 - val_loss: 2.4800 - val_acc: 0.8327\n",
      "Epoch 5/10\n",
      "54000/54000 [==============================] - 0s 7us/step - loss: 1.5051 - acc: 0.8919 - val_loss: 0.8921 - val_acc: 0.9317\n",
      "Epoch 6/10\n",
      "54000/54000 [==============================] - 0s 7us/step - loss: 0.9622 - acc: 0.9276 - val_loss: 0.7916 - val_acc: 0.9387\n",
      "Epoch 7/10\n",
      "54000/54000 [==============================] - 0s 7us/step - loss: 0.8524 - acc: 0.9343 - val_loss: 0.7381 - val_acc: 0.9420\n",
      "Epoch 8/10\n",
      "54000/54000 [==============================] - 0s 6us/step - loss: 0.8072 - acc: 0.9376 - val_loss: 0.7168 - val_acc: 0.9430\n",
      "Epoch 9/10\n",
      "54000/54000 [==============================] - 0s 6us/step - loss: 0.7083 - acc: 0.9429 - val_loss: 0.6242 - val_acc: 0.9500\n",
      "Epoch 10/10\n",
      "54000/54000 [==============================] - 0s 6us/step - loss: 0.6572 - acc: 0.9472 - val_loss: 0.6185 - val_acc: 0.9512\n"
     ]
    },
    {
     "data": {
      "image/png": "[encoded data removed]",
      "text/plain": [
       "<Figure size 432x288 with 1 Axes>"
      ]
     },
     "metadata": {
      "needs_background": "light"
     },
     "output_type": "display_data"
    },
    {
     "name": "stdout",
     "output_type": "stream",
     "text": [
      "Test loss: 0.738\n",
      "Test accuracy: 0.94\n"
     ]
    }
   ],
   "source": [
    "model.compile(optimizer=\"sgd\", loss='categorical_crossentropy', metrics=['accuracy'])\n",
    "history = model.fit(x_train, y_train, batch_size=512, epochs=10, verbose=1, validation_split=.1)\n",
    "loss, accuracy  = model.evaluate(x_test, y_test, verbose=False)\n",
    "\n",
    "plt.plot(history.history['acc'])\n",
    "plt.plot(history.history['val_acc'])\n",
    "plt.title('model accuracy')\n",
    "plt.ylabel('accuracy')\n",
    "plt.xlabel('epoch')\n",
    "plt.legend(['Training', 'Test'], loc='best')\n",
    "plt.show()\n",
    "\n",
    "print(f'Test loss: {loss:.3}')\n",
    "print(f'Test accuracy: {accuracy:.3}')"
   ]
  },
  {
   "cell_type": "code",
   "execution_count": null,
   "metadata": {},
   "outputs": [],
   "source": []
  }
 ],
 "metadata": {
  "kernelspec": {
   "display_name": "Python 3",
   "language": "python",
   "name": "python3"
  },
  "language_info": {
   "codemirror_mode": {
    "name": "ipython",
    "version": 3
   },
   "file_extension": ".py",
   "mimetype": "text/x-python",
   "name": "python",
   "nbconvert_exporter": "python",
   "pygments_lexer": "ipython3",
   "version": "3.7.3"
  }
 },
 "nbformat": 4,
 "nbformat_minor": 2
}
