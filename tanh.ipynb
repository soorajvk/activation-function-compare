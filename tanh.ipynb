{
 "cells": [
  {
   "cell_type": "code",
   "execution_count": 1,
   "metadata": {},
   "outputs": [
    {
     "name": "stderr",
     "output_type": "stream",
     "text": [
      "Using TensorFlow backend.\n"
     ]
    },
    {
     "name": "stdout",
     "output_type": "stream",
     "text": [
      "Training data shape:  (60000, 28, 28)\n",
      "Test data shape (10000, 28, 28)\n",
      "Training label shape:  (60000,)\n",
      "First 5 training labels:  [5 0 4 1 9]\n",
      "First 5 training lables as one-hot encoded vectors:\n",
      " [[0. 0. 0. 0. 0. 1. 0. 0. 0. 0.]\n",
      " [1. 0. 0. 0. 0. 0. 0. 0. 0. 0.]\n",
      " [0. 0. 0. 0. 1. 0. 0. 0. 0. 0.]\n",
      " [0. 1. 0. 0. 0. 0. 0. 0. 0. 0.]\n",
      " [0. 0. 0. 0. 0. 0. 0. 0. 0. 1.]]\n"
     ]
    }
   ],
   "source": [
    "import keras\n",
    "import time\n",
    "import matplotlib\n",
    "import matplotlib.pyplot as plt\n",
    "\n",
    "from keras.layers import Dense, Activation\n",
    "from keras.models import Sequential\n",
    "from keras.datasets import mnist\n",
    "\n",
    "\n",
    "\n",
    "# Load datasets and view the shape of the training and test dataset splits\n",
    "(x_train, y_train), (x_test, y_test) = mnist.load_data()\n",
    "print(\"Training data shape: \", x_train.shape) \n",
    "print(\"Training label shape: \", y_train.shape)\n",
    "\n",
    "print(\"Test data shape\", x_test.shape)\n",
    "print(\"Test label shape: \", y_test.shape)\n",
    "\n",
    "# Reshape the test and train labels datasets to avoid rank 1 arrays\n",
    "y_train = y_train.reshape(len(y_train), 1)\n",
    "print(\"Reshaped training label: \", y_train.shape)\n",
    "y_test = y_test.reshape(len(y_test), 1)\n",
    "print(\"Reshaped test label: \", y_test.shape)\n",
    "\n",
    "# Flatten the images\n",
    "flatten_image_size = x_train.shape[1] * x_train.shape[2] #Training and Test images should have the same dimensions\n",
    "x_train = x_train.reshape(x_train.shape[0], flatten_image_size)\n",
    "x_test = x_test.reshape(x_test.shape[0], flatten_image_size)\n",
    "\n",
    "print(\"First 5 training labels: \\n\", y_train[:5])\n",
    "\n",
    "# Convert to \"one-hot\" vectors using the to_categorical function\n",
    "num_classes = 10\n",
    "y_train = keras.utils.to_categorical(y_train, num_classes)\n",
    "y_test = keras.utils.to_categorical(y_test, num_classes)\n",
    "print(\"First 5 training lables as one-hot encoded vectors:\\n\", y_train[:5])"
   ]
  },
  {
   "cell_type": "code",
   "execution_count": 2,
   "metadata": {},
   "outputs": [
    {
     "name": "stdout",
     "output_type": "stream",
     "text": [
      "WARNING:tensorflow:From /home/sooraj/venv/tf2/lib/python3.7/site-packages/tensorflow/python/framework/op_def_library.py:263: colocate_with (from tensorflow.python.framework.ops) is deprecated and will be removed in a future version.\n",
      "Instructions for updating:\n",
      "Colocations handled automatically by placer.\n",
      "_________________________________________________________________\n",
      "Layer (type)                 Output Shape              Param #   \n",
      "=================================================================\n",
      "dense_1 (Dense)              (None, 32)                25120     \n",
      "_________________________________________________________________\n",
      "activation_1 (Activation)    (None, 32)                0         \n",
      "_________________________________________________________________\n",
      "dense_2 (Dense)              (None, 64)                2112      \n",
      "_________________________________________________________________\n",
      "activation_2 (Activation)    (None, 64)                0         \n",
      "_________________________________________________________________\n",
      "dense_3 (Dense)              (None, 10)                650       \n",
      "_________________________________________________________________\n",
      "activation_3 (Activation)    (None, 10)                0         \n",
      "=================================================================\n",
      "Total params: 27,882\n",
      "Trainable params: 27,882\n",
      "Non-trainable params: 0\n",
      "_________________________________________________________________\n"
     ]
    }
   ],
   "source": [
    "num_classes = 10 # Number of different outputs\n",
    "\n",
    "model = Sequential([\n",
    "    Dense(32, input_shape=(flatten_image_size,)),\n",
    "    Activation('tanh'),\n",
    "    Dense(64),\n",
    "    Activation('tanh'),\n",
    "    Dense(num_classes),\n",
    "    Activation('softmax'),\n",
    "])\n",
    "\n",
    "model.summary()"
   ]
  },
  {
   "cell_type": "code",
   "execution_count": 3,
   "metadata": {},
   "outputs": [
    {
     "name": "stdout",
     "output_type": "stream",
     "text": [
      "WARNING:tensorflow:From /home/sooraj/venv/tf2/lib/python3.7/site-packages/tensorflow/python/ops/math_ops.py:3066: to_int32 (from tensorflow.python.ops.math_ops) is deprecated and will be removed in a future version.\n",
      "Instructions for updating:\n",
      "Use tf.cast instead.\n",
      "Train on 54000 samples, validate on 6000 samples\n",
      "Epoch 1/10\n",
      "54000/54000 [==============================] - 0s 9us/step - loss: 1.7034 - acc: 0.4461 - val_loss: 1.2708 - val_acc: 0.6543\n",
      "Epoch 2/10\n",
      "54000/54000 [==============================] - 0s 6us/step - loss: 1.1258 - acc: 0.7046 - val_loss: 0.9244 - val_acc: 0.7928\n",
      "Epoch 3/10\n",
      "54000/54000 [==============================] - 0s 7us/step - loss: 0.8905 - acc: 0.7701 - val_loss: 0.7400 - val_acc: 0.8302\n",
      "Epoch 4/10\n",
      "54000/54000 [==============================] - 0s 6us/step - loss: 0.7534 - acc: 0.8042 - val_loss: 0.6406 - val_acc: 0.8452\n",
      "Epoch 5/10\n",
      "54000/54000 [==============================] - 0s 6us/step - loss: 0.6688 - acc: 0.8237 - val_loss: 0.5691 - val_acc: 0.8622\n",
      "Epoch 6/10\n",
      "54000/54000 [==============================] - 0s 6us/step - loss: 0.6100 - acc: 0.8371 - val_loss: 0.5179 - val_acc: 0.8740\n",
      "Epoch 7/10\n",
      "54000/54000 [==============================] - 0s 7us/step - loss: 0.5594 - acc: 0.8494 - val_loss: 0.4796 - val_acc: 0.8778\n",
      "Epoch 8/10\n",
      "54000/54000 [==============================] - 0s 7us/step - loss: 0.5258 - acc: 0.8573 - val_loss: 0.4450 - val_acc: 0.8877\n",
      "Epoch 9/10\n",
      "54000/54000 [==============================] - 0s 7us/step - loss: 0.4992 - acc: 0.8615 - val_loss: 0.4231 - val_acc: 0.8895\n",
      "Epoch 10/10\n",
      "54000/54000 [==============================] - 0s 7us/step - loss: 0.4750 - acc: 0.8662 - val_loss: 0.4051 - val_acc: 0.8927\n"
     ]
    },
    {
     "data": {
      "image/png": "[encoded data removed]",
      "text/plain": [
       "<Figure size 432x288 with 1 Axes>"
      ]
     },
     "metadata": {
      "needs_background": "light"
     },
     "output_type": "display_data"
    },
    {
     "name": "stdout",
     "output_type": "stream",
     "text": [
      "Test loss: 0.456\n",
      "Test accuracy: 0.874\n"
     ]
    }
   ],
   "source": [
    "model.compile(optimizer=\"sgd\", loss='categorical_crossentropy', metrics=['accuracy'])\n",
    "history = model.fit(x_train, y_train, batch_size=512, epochs=10, verbose=1, validation_split=.1)\n",
    "loss, accuracy  = model.evaluate(x_test, y_test, verbose=False)\n",
    "\n",
    "plt.plot(history.history['acc'])\n",
    "plt.plot(history.history['val_acc'])\n",
    "plt.title('model accuracy')\n",
    "plt.ylabel('accuracy')\n",
    "plt.xlabel('epoch')\n",
    "plt.legend(['Training', 'Test'], loc='best')\n",
    "plt.show()\n",
    "\n",
    "print(f'Test loss: {loss:.3}')\n",
    "print(f'Test accuracy: {accuracy:.3}')"
   ]
  },
  {
   "cell_type": "code",
   "execution_count": null,
   "metadata": {},
   "outputs": [],
   "source": []
  }
 ],
 "metadata": {
  "kernelspec": {
   "display_name": "Python 3",
   "language": "python",
   "name": "python3"
  },
  "language_info": {
   "codemirror_mode": {
    "name": "ipython",
    "version": 3
   },
   "file_extension": ".py",
   "mimetype": "text/x-python",
   "name": "python",
   "nbconvert_exporter": "python",
   "pygments_lexer": "ipython3",
   "version": "3.7.3"
  }
 },
 "nbformat": 4,
 "nbformat_minor": 2
}
